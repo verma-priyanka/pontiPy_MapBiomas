{
 "cells": [
  {
   "cell_type": "markdown",
   "metadata": {
    "hideCode": true,
    "hideOutput": true,
    "hidePrompt": true,
    "slideshow": {
     "slide_type": "slide"
    }
   },
   "source": [
    "<center>\n",
    "    <img src=\"https://raw.githubusercontent.com/verma-priyanka/pontiPy_MapBiomas/main/img/slide-01.png\">\n",
    "</center>"
   ]
  },
  {
   "cell_type": "markdown",
   "metadata": {
    "slideshow": {
     "slide_type": "slide"
    }
   },
   "source": [
    "<center>\n",
    "    <center> <font size=\"18\" color='#538EBB' face = 'Arial Rounded MT'>Temporal Difference Plot</font>\n",
    "    <img src=\"https://raw.githubusercontent.com/verma-priyanka/pontiPy_MapBiomas/main/img/pontius_plot.PNG\">\n",
    "</center>"
   ]
  },
  {
   "cell_type": "markdown",
   "metadata": {
    "slideshow": {
     "slide_type": "slide"
    }
   },
   "source": [
    "<center>\n",
    "    <img src=\"https://raw.githubusercontent.com/verma-priyanka/pontiPy_MapBiomas/main/img/hello_pontipy.png\">\n",
    "</center>"
   ]
  },
  {
   "cell_type": "markdown",
   "metadata": {
    "slideshow": {
     "slide_type": "fragment"
    }
   },
   "source": [
    "Install pontiPy from TestPyPi Server through pip"
   ]
  },
  {
   "cell_type": "code",
   "execution_count": 1,
   "metadata": {
    "jupyter": {
     "outputs_hidden": true
    },
    "slideshow": {
     "slide_type": "-"
    }
   },
   "outputs": [],
   "source": [
    "# !pip install -i https://test.pypi.org/simple/ pontiPy==2.4"
   ]
  },
  {
   "cell_type": "markdown",
   "metadata": {
    "slideshow": {
     "slide_type": "fragment"
    }
   },
   "source": [
    "Import pontiPy"
   ]
  },
  {
   "cell_type": "code",
   "execution_count": 2,
   "metadata": {
    "slideshow": {
     "slide_type": "-"
    }
   },
   "outputs": [],
   "source": [
    "from pontiPy import *"
   ]
  },
  {
   "cell_type": "markdown",
   "metadata": {
    "slideshow": {
     "slide_type": "fragment"
    }
   },
   "source": [
    "Dependencies"
   ]
  },
  {
   "cell_type": "code",
   "execution_count": 3,
   "metadata": {
    "slideshow": {
     "slide_type": "-"
    }
   },
   "outputs": [],
   "source": [
    "import pandas as pd\n",
    "import plotly.express as px"
   ]
  },
  {
   "cell_type": "markdown",
   "metadata": {
    "slideshow": {
     "slide_type": "slide"
    }
   },
   "source": [
    "<center> <font size=\"18\" color='#FFCD3F' face = 'Arial Rounded MT'>pontiPy</font><font size=\"18\" face = 'Arial Rounded MT'> + </font> <font size=\"18\" color='#D58E4D' face = 'Arial Rounded MT'> MapBiomass</font>"
   ]
  },
  {
   "cell_type": "code",
   "execution_count": 4,
   "metadata": {
    "slideshow": {
     "slide_type": "skip"
    }
   },
   "outputs": [],
   "source": [
    "df = pd.read_csv(r'..\\DATA\\PRESENT\\1985 a 1986.csv', index_col = 0)"
   ]
  },
  {
   "cell_type": "markdown",
   "metadata": {},
   "source": [
    "Confusion Matrix (1985-1986)"
   ]
  },
  {
   "cell_type": "code",
   "execution_count": 5,
   "metadata": {
    "slideshow": {
     "slide_type": "-"
    }
   },
   "outputs": [
    {
     "data": {
      "text/html": [
       "<div>\n",
       "<style scoped>\n",
       "    .dataframe tbody tr th:only-of-type {\n",
       "        vertical-align: middle;\n",
       "    }\n",
       "\n",
       "    .dataframe tbody tr th {\n",
       "        vertical-align: top;\n",
       "    }\n",
       "\n",
       "    .dataframe thead th {\n",
       "        text-align: right;\n",
       "    }\n",
       "</style>\n",
       "<table border=\"1\" class=\"dataframe\">\n",
       "  <thead>\n",
       "    <tr style=\"text-align: right;\">\n",
       "      <th></th>\n",
       "      <th>Forest</th>\n",
       "      <th>Natural</th>\n",
       "      <th>Agriculture</th>\n",
       "      <th>NonVegetated</th>\n",
       "      <th>Water</th>\n",
       "      <th>NotObserved</th>\n",
       "    </tr>\n",
       "  </thead>\n",
       "  <tbody>\n",
       "    <tr>\n",
       "      <th>Forest</th>\n",
       "      <td>595909521</td>\n",
       "      <td>202111</td>\n",
       "      <td>1123311</td>\n",
       "      <td>24087</td>\n",
       "      <td>254515</td>\n",
       "      <td>108</td>\n",
       "    </tr>\n",
       "    <tr>\n",
       "      <th>Natural</th>\n",
       "      <td>338378</td>\n",
       "      <td>57102895</td>\n",
       "      <td>171374</td>\n",
       "      <td>21774</td>\n",
       "      <td>180725</td>\n",
       "      <td>128</td>\n",
       "    </tr>\n",
       "    <tr>\n",
       "      <th>Agriculture</th>\n",
       "      <td>1090229</td>\n",
       "      <td>400869</td>\n",
       "      <td>175958382</td>\n",
       "      <td>116476</td>\n",
       "      <td>38080</td>\n",
       "      <td>74</td>\n",
       "    </tr>\n",
       "    <tr>\n",
       "      <th>NonVegetated</th>\n",
       "      <td>10149</td>\n",
       "      <td>12805</td>\n",
       "      <td>111343</td>\n",
       "      <td>2789543</td>\n",
       "      <td>7650</td>\n",
       "      <td>209</td>\n",
       "    </tr>\n",
       "    <tr>\n",
       "      <th>Water</th>\n",
       "      <td>66613</td>\n",
       "      <td>20937</td>\n",
       "      <td>11085</td>\n",
       "      <td>2131</td>\n",
       "      <td>15216393</td>\n",
       "      <td>65</td>\n",
       "    </tr>\n",
       "    <tr>\n",
       "      <th>NotObserved</th>\n",
       "      <td>126</td>\n",
       "      <td>78</td>\n",
       "      <td>86</td>\n",
       "      <td>147</td>\n",
       "      <td>603</td>\n",
       "      <td>22370</td>\n",
       "    </tr>\n",
       "  </tbody>\n",
       "</table>\n",
       "</div>"
      ],
      "text/plain": [
       "                 Forest   Natural  Agriculture  NonVegetated     Water  \\\n",
       "Forest        595909521    202111      1123311         24087    254515   \n",
       "Natural          338378  57102895       171374         21774    180725   \n",
       "Agriculture     1090229    400869    175958382        116476     38080   \n",
       "NonVegetated      10149     12805       111343       2789543      7650   \n",
       "Water             66613     20937        11085          2131  15216393   \n",
       "NotObserved         126        78           86           147       603   \n",
       "\n",
       "              NotObserved  \n",
       "Forest                108  \n",
       "Natural               128  \n",
       "Agriculture            74  \n",
       "NonVegetated          209  \n",
       "Water                  65  \n",
       "NotObserved         22370  "
      ]
     },
     "metadata": {},
     "output_type": "display_data"
    }
   ],
   "source": [
    "display(df)"
   ]
  },
  {
   "cell_type": "markdown",
   "metadata": {
    "slideshow": {
     "slide_type": "slide"
    }
   },
   "source": [
    "<center> <font size=\"18\" color='#FFCD3F' face = 'Arial Rounded MT'>pontiPy</font><font size=\"18\" face = 'Arial Rounded MT'> + </font> <font size=\"18\" color='#D58E4D' face = 'Arial Rounded MT'> MapBiomass</font>"
   ]
  },
  {
   "cell_type": "markdown",
   "metadata": {},
   "source": [
    "Create a pontiPy Change Object"
   ]
  },
  {
   "cell_type": "code",
   "execution_count": 6,
   "metadata": {
    "slideshow": {
     "slide_type": "fragment"
    }
   },
   "outputs": [],
   "source": [
    "matrix_85_86 = pontiPy_Change(df)"
   ]
  },
  {
   "cell_type": "markdown",
   "metadata": {
    "slideshow": {
     "slide_type": "fragment"
    }
   },
   "source": [
    "Generate Change Matrix"
   ]
  },
  {
   "cell_type": "code",
   "execution_count": 7,
   "metadata": {
    "slideshow": {
     "slide_type": "-"
    }
   },
   "outputs": [
    {
     "data": {
      "text/html": [
       "<div>\n",
       "<style scoped>\n",
       "    .dataframe tbody tr th:only-of-type {\n",
       "        vertical-align: middle;\n",
       "    }\n",
       "\n",
       "    .dataframe tbody tr th {\n",
       "        vertical-align: top;\n",
       "    }\n",
       "\n",
       "    .dataframe thead th {\n",
       "        text-align: right;\n",
       "    }\n",
       "</style>\n",
       "<table border=\"1\" class=\"dataframe\">\n",
       "  <thead>\n",
       "    <tr style=\"text-align: right;\">\n",
       "      <th></th>\n",
       "      <th>Forest</th>\n",
       "      <th>Natural</th>\n",
       "      <th>Agriculture</th>\n",
       "      <th>NonVegetated</th>\n",
       "      <th>Water</th>\n",
       "      <th>NotObserved</th>\n",
       "      <th>Sum</th>\n",
       "      <th>Loss</th>\n",
       "    </tr>\n",
       "  </thead>\n",
       "  <tbody>\n",
       "    <tr>\n",
       "      <th>Forest</th>\n",
       "      <td>595909521</td>\n",
       "      <td>202111</td>\n",
       "      <td>1123311</td>\n",
       "      <td>24087</td>\n",
       "      <td>254515</td>\n",
       "      <td>108</td>\n",
       "      <td>597513653</td>\n",
       "      <td>1604132</td>\n",
       "    </tr>\n",
       "    <tr>\n",
       "      <th>Natural</th>\n",
       "      <td>338378</td>\n",
       "      <td>57102895</td>\n",
       "      <td>171374</td>\n",
       "      <td>21774</td>\n",
       "      <td>180725</td>\n",
       "      <td>128</td>\n",
       "      <td>57815274</td>\n",
       "      <td>712379</td>\n",
       "    </tr>\n",
       "    <tr>\n",
       "      <th>Agriculture</th>\n",
       "      <td>1090229</td>\n",
       "      <td>400869</td>\n",
       "      <td>175958382</td>\n",
       "      <td>116476</td>\n",
       "      <td>38080</td>\n",
       "      <td>74</td>\n",
       "      <td>177604110</td>\n",
       "      <td>1645728</td>\n",
       "    </tr>\n",
       "    <tr>\n",
       "      <th>NonVegetated</th>\n",
       "      <td>10149</td>\n",
       "      <td>12805</td>\n",
       "      <td>111343</td>\n",
       "      <td>2789543</td>\n",
       "      <td>7650</td>\n",
       "      <td>209</td>\n",
       "      <td>2931699</td>\n",
       "      <td>142156</td>\n",
       "    </tr>\n",
       "    <tr>\n",
       "      <th>Water</th>\n",
       "      <td>66613</td>\n",
       "      <td>20937</td>\n",
       "      <td>11085</td>\n",
       "      <td>2131</td>\n",
       "      <td>15216393</td>\n",
       "      <td>65</td>\n",
       "      <td>15317224</td>\n",
       "      <td>100831</td>\n",
       "    </tr>\n",
       "    <tr>\n",
       "      <th>NotObserved</th>\n",
       "      <td>126</td>\n",
       "      <td>78</td>\n",
       "      <td>86</td>\n",
       "      <td>147</td>\n",
       "      <td>603</td>\n",
       "      <td>22370</td>\n",
       "      <td>23410</td>\n",
       "      <td>1040</td>\n",
       "    </tr>\n",
       "    <tr>\n",
       "      <th>Sum</th>\n",
       "      <td>597415016</td>\n",
       "      <td>57739695</td>\n",
       "      <td>177375581</td>\n",
       "      <td>2954158</td>\n",
       "      <td>15697966</td>\n",
       "      <td>22954</td>\n",
       "      <td>851205370</td>\n",
       "      <td>4206266</td>\n",
       "    </tr>\n",
       "    <tr>\n",
       "      <th>Gain</th>\n",
       "      <td>1505495</td>\n",
       "      <td>636800</td>\n",
       "      <td>1417199</td>\n",
       "      <td>164615</td>\n",
       "      <td>481573</td>\n",
       "      <td>584</td>\n",
       "      <td>4206266</td>\n",
       "      <td></td>\n",
       "    </tr>\n",
       "  </tbody>\n",
       "</table>\n",
       "</div>"
      ],
      "text/plain": [
       "                 Forest   Natural  Agriculture  NonVegetated     Water  \\\n",
       "Forest        595909521    202111      1123311         24087    254515   \n",
       "Natural          338378  57102895       171374         21774    180725   \n",
       "Agriculture     1090229    400869    175958382        116476     38080   \n",
       "NonVegetated      10149     12805       111343       2789543      7650   \n",
       "Water             66613     20937        11085          2131  15216393   \n",
       "NotObserved         126        78           86           147       603   \n",
       "Sum           597415016  57739695    177375581       2954158  15697966   \n",
       "Gain            1505495    636800      1417199        164615    481573   \n",
       "\n",
       "              NotObserved        Sum     Loss  \n",
       "Forest                108  597513653  1604132  \n",
       "Natural               128   57815274   712379  \n",
       "Agriculture            74  177604110  1645728  \n",
       "NonVegetated          209    2931699   142156  \n",
       "Water                  65   15317224   100831  \n",
       "NotObserved         22370      23410     1040  \n",
       "Sum                 22954  851205370  4206266  \n",
       "Gain                  584    4206266           "
      ]
     },
     "execution_count": 7,
     "metadata": {},
     "output_type": "execute_result"
    }
   ],
   "source": [
    "matrix_85_86.matrix()"
   ]
  },
  {
   "cell_type": "markdown",
   "metadata": {
    "slideshow": {
     "slide_type": "slide"
    }
   },
   "source": [
    "<center> <font size=\"18\" color='#538EBB' face = 'Arial Rounded MT'>Workflow</font>"
   ]
  },
  {
   "cell_type": "markdown",
   "metadata": {
    "slideshow": {
     "slide_type": "fragment"
    }
   },
   "source": [
    "#### Matrix Extraction\n",
    "\n",
    "Matrices retrieved from MapBioMas Website for 1985-2019\n",
    "\n",
    "---"
   ]
  },
  {
   "cell_type": "markdown",
   "metadata": {
    "slideshow": {
     "slide_type": "fragment"
    }
   },
   "source": [
    "#### Calculate Metrics\n",
    "\n",
    "Calculate metrics for each yearly interval\n",
    "\n",
    "---"
   ]
  },
  {
   "cell_type": "markdown",
   "metadata": {
    "slideshow": {
     "slide_type": "fragment"
    }
   },
   "source": [
    "#### Plot\n",
    "\n",
    "Compile everything into a stacked bar chart \n",
    "\n",
    "---"
   ]
  },
  {
   "cell_type": "markdown",
   "metadata": {
    "slideshow": {
     "slide_type": "slide"
    }
   },
   "source": [
    "<center> <font size=\"18\" color='#538EBB' face = 'Arial Rounded MT'>Matrix Extraction</font>"
   ]
  },
  {
   "cell_type": "markdown",
   "metadata": {
    "slideshow": {
     "slide_type": "-"
    }
   },
   "source": [
    "<center>\n",
    "    Extracted from MapBiomas Platfrom\n",
    "    <img src=\"https://raw.githubusercontent.com/verma-priyanka/pontiPy_MapBiomas/main/img/webscrapingslide.png\">\n",
    "</center>"
   ]
  },
  {
   "cell_type": "markdown",
   "metadata": {
    "slideshow": {
     "slide_type": "slide"
    }
   },
   "source": [
    "<center> <font size=\"18\" color='#538EBB' face = 'Arial Rounded MT'>Calculate Metrics</font>"
   ]
  },
  {
   "cell_type": "markdown",
   "metadata": {
    "slideshow": {
     "slide_type": "fragment"
    }
   },
   "source": [
    "#### Quantity"
   ]
  },
  {
   "cell_type": "code",
   "execution_count": 8,
   "metadata": {
    "slideshow": {
     "slide_type": "-"
    }
   },
   "outputs": [
    {
     "data": {
      "text/plain": [
       "403201"
      ]
     },
     "execution_count": 8,
     "metadata": {},
     "output_type": "execute_result"
    }
   ],
   "source": [
    "matrix_85_86.quantity()"
   ]
  },
  {
   "cell_type": "markdown",
   "metadata": {
    "slideshow": {
     "slide_type": "fragment"
    }
   },
   "source": [
    "#### Exchange"
   ]
  },
  {
   "cell_type": "code",
   "execution_count": 9,
   "metadata": {
    "slideshow": {
     "slide_type": "-"
    }
   },
   "outputs": [
    {
     "data": {
      "text/plain": [
       "3398498"
      ]
     },
     "execution_count": 9,
     "metadata": {},
     "output_type": "execute_result"
    }
   ],
   "source": [
    "matrix_85_86.exchange()"
   ]
  },
  {
   "cell_type": "markdown",
   "metadata": {
    "slideshow": {
     "slide_type": "fragment"
    }
   },
   "source": [
    "#### Shift"
   ]
  },
  {
   "cell_type": "code",
   "execution_count": 10,
   "metadata": {
    "slideshow": {
     "slide_type": "-"
    }
   },
   "outputs": [
    {
     "data": {
      "text/plain": [
       "2103816.0"
      ]
     },
     "execution_count": 10,
     "metadata": {},
     "output_type": "execute_result"
    }
   ],
   "source": [
    "matrix_85_86.shift()"
   ]
  },
  {
   "cell_type": "markdown",
   "metadata": {
    "slideshow": {
     "slide_type": "slide"
    }
   },
   "source": [
    "<center> <font size=\"18\" color='#538EBB' face = 'Arial Rounded MT'>Yearly Temporal Difference</font>\n",
    "    <center> <font size=\"12\" color='#D58E4D' face = 'Arial Rounded MT'>(1985-2019)</font>"
   ]
  },
  {
   "cell_type": "markdown",
   "metadata": {
    "slideshow": {
     "slide_type": "fragment"
    }
   },
   "source": [
    "<center><img src=\"https://raw.githubusercontent.com/verma-priyanka/pontiPy_MapBiomas/main/img/yearly_final.png\"></center>"
   ]
  },
  {
   "cell_type": "markdown",
   "metadata": {
    "slideshow": {
     "slide_type": "slide"
    }
   },
   "source": [
    "<center> <font size=\"18\" color='#538EBB' face = 'Arial Rounded MT'>Five-Year Temporal Differencee</font>\n",
    "    <center> <font size=\"12\" color='#D58E4D' face = 'Arial Rounded MT'>(1985-2019)</font>"
   ]
  },
  {
   "cell_type": "markdown",
   "metadata": {
    "slideshow": {
     "slide_type": "-"
    }
   },
   "source": [
    "<center><img src=\"https://raw.githubusercontent.com/verma-priyanka/pontiPy_MapBiomas/main/img/5year_final.png\"></center>"
   ]
  },
  {
   "cell_type": "markdown",
   "metadata": {
    "slideshow": {
     "slide_type": "slide"
    }
   },
   "source": [
    "<font size=\"18\" color='#538EBB' face = 'Arial Rounded MT'>Documentation</font> "
   ]
  },
  {
   "cell_type": "markdown",
   "metadata": {
    "slideshow": {
     "slide_type": "-"
    }
   },
   "source": [
    "<center><img src=\"https://raw.githubusercontent.com/verma-priyanka/pontiPy_MapBiomas/main/img/pontiPylogo2.png\">\n",
    "<a href=\"https://github.com/verma-priyanka/pontiPy\" rel=\"some text\" target=\"_blank\">GitHub Repository</a></center>"
   ]
  },
  {
   "cell_type": "markdown",
   "metadata": {
    "slideshow": {
     "slide_type": "slide"
    }
   },
   "source": [
    "<center> <font size=\"18\" face = 'Arial Rounded MT'>Thank You </font> </center> "
   ]
  },
  {
   "cell_type": "markdown",
   "metadata": {
    "slideshow": {
     "slide_type": "slide"
    }
   },
   "source": [
    "<center> <font size=\"18\" face = 'Arial Rounded MT'>Questions?</font> </center> "
   ]
  }
 ],
 "metadata": {
  "celltoolbar": "Slideshow",
  "hide_code_all_hidden": true,
  "kernelspec": {
   "display_name": "Python 3",
   "language": "python",
   "name": "python3"
  },
  "language_info": {
   "codemirror_mode": {
    "name": "ipython",
    "version": 3
   },
   "file_extension": ".py",
   "mimetype": "text/x-python",
   "name": "python",
   "nbconvert_exporter": "python",
   "pygments_lexer": "ipython3",
   "version": "3.8.3"
  }
 },
 "nbformat": 4,
 "nbformat_minor": 4
}
