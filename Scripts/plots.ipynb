{
 "cells": [
  {
   "cell_type": "code",
   "execution_count": null,
   "metadata": {},
   "outputs": [],
   "source": [
    "import plotly.express as px\n",
    "import pandas as pd"
   ]
  },
  {
   "cell_type": "code",
   "execution_count": null,
   "metadata": {},
   "outputs": [],
   "source": [
    "colors = ['#769BA9', '#94C197', '#D7D779', '#8FC0D0']"
   ]
  },
  {
   "cell_type": "code",
   "execution_count": null,
   "metadata": {},
   "outputs": [],
   "source": [
    "long_df = pd.read_csv(r'DATA\\final_year.csv')\n",
    "\n",
    "fig = px.bar(long_df, x=\"Year\", y=[\"Quantity\", \"Exchange\", \"Shift\"], \n",
    "             title=\"<b>Yearly Temporal Difference (1985-2019)<b>\",\n",
    "             color_discrete_sequence=colors,\n",
    "             template=\"simple_white\",  hover_name=\"Year\")\n",
    "\n",
    "layout = fig.update_layout(\n",
    "    font=dict(family=\"Trebuchet MS\", size=12),\n",
    "    hovermode=False,\n",
    "    yaxis=dict(title='Area',\n",
    "               title_font=dict(size=12, family='Trebuchet MS', color='black')),\n",
    "    xaxis=dict(title='Year', dtick=1,\n",
    "               title_font=dict(size=12, family='Trebuchet MS', color='black')),\n",
    "    legend=dict(orientation=\"h\", yanchor=\"bottom\", y=1.02, xanchor=\"right\",\n",
    "                x=0.65, title='',\n",
    "                font=dict(family=\"Trebuchet MS\", size=12)),\n",
    "    title =  dict(font =dict(family='\"Trebuchet MS',\n",
    "                             size = 20,\n",
    "                               color = '#D58E4D')),\n",
    "    title_x=0.5\n",
    "    \n",
    ")\n",
    "\n",
    "fig.show()\n"
   ]
  },
  {
   "cell_type": "code",
   "execution_count": null,
   "metadata": {},
   "outputs": [],
   "source": [
    "long_df = pd.read_csv(r'DATA\\final_5YR.csv')\n",
    "\n",
    "\n",
    "\n",
    "\n",
    "fig = px.bar(long_df, x=\"Year\", y=[\"Quantity\", \"Exchange\", \"Shift\"], \n",
    "             title=\"<b>Five-Year Temporal Difference (1985-2019)<b>\",\n",
    "             color_discrete_sequence=colors,\n",
    "             template=\"simple_white\")\n",
    "\n",
    "layout = fig.update_layout(\n",
    "    font=dict(family=\"Trebuchet MS\", size=12),\n",
    "    hovermode=False,\n",
    "    yaxis=dict(title='Area',\n",
    "               title_font=dict(size=12, family='Trebuchet MS', color='black')),\n",
    "    xaxis=dict(title='Year', dtick=1,\n",
    "               title_font=dict(size=12, family='Trebuchet MS', color='black')),\n",
    "    legend=dict(orientation=\"h\", yanchor=\"bottom\", y=1.02, xanchor=\"right\",\n",
    "                x=0.65, title='',\n",
    "                font=dict(family=\"Trebuchet MS\", size=12)),\n",
    "    title =  dict(font =dict(family='\"Trebuchet MS',\n",
    "                             size = 20,\n",
    "                               color = '#D58E4D')),\n",
    "    title_x=0.5\n",
    "    \n",
    ")\n",
    "\n",
    "fig.show()"
   ]
  },
  {
   "cell_type": "code",
   "execution_count": 2,
   "metadata": {},
   "outputs": [
    {
     "name": "stdout",
     "output_type": "stream",
     "text": [
      "Looking in indexes: https://test.pypi.org/simple/\n",
      "Collecting pontiPy==2.3\n",
      "  Downloading https://test-files.pythonhosted.org/packages/91/a4/9354c0c5a1a97bad20b035ee6d44d91ef1f815e4d4501fdb2bd48a45a0c9/pontiPy-2.3-py3-none-any.whl (7.8 kB)\n",
      "Note: you may need to restart the kernel to use updated packages.\n"
     ]
    },
    {
     "name": "stderr",
     "output_type": "stream",
     "text": [
      "ERROR: Could not find a version that satisfies the requirement plotly-express (from pontiPy==2.3) (from versions: none)\n",
      "ERROR: No matching distribution found for plotly-express (from pontiPy==2.3)\n"
     ]
    }
   ],
   "source": [
    "pip install -i https://test.pypi.org/simple/ pontiPy==2.3"
   ]
  },
  {
   "cell_type": "code",
   "execution_count": null,
   "metadata": {},
   "outputs": [],
   "source": []
  }
 ],
 "metadata": {
  "kernelspec": {
   "display_name": "Python 3",
   "language": "python",
   "name": "python3"
  },
  "language_info": {
   "codemirror_mode": {
    "name": "ipython",
    "version": 3
   },
   "file_extension": ".py",
   "mimetype": "text/x-python",
   "name": "python",
   "nbconvert_exporter": "python",
   "pygments_lexer": "ipython3",
   "version": "3.8.3"
  }
 },
 "nbformat": 4,
 "nbformat_minor": 4
}
