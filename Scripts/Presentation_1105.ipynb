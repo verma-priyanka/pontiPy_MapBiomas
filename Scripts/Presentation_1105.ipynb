{
 "cells": [
  {
   "cell_type": "markdown",
   "metadata": {
    "hideCode": true,
    "hideOutput": true,
    "hidePrompt": false,
    "slideshow": {
     "slide_type": "slide"
    }
   },
   "source": [
    "<center> \n",
    "    <font size=\"35\" color='#538EBB' face = 'Arial Rounded MT'>ponti</font>\n",
    "    <font size=\"35\" color='#FFCD3F' face = 'Arial Rounded MT'>Py</font>\n",
    "    <font size=\"35\" face = 'Arial Rounded MT' color  = 'A9A9A9' > + </font> \n",
    "    <font size=\"35\" color='#D58E4D' face = 'Arial Rounded MT'> MapBiomass </font>    \n",
    "    <br/><br/> <br/><br/><br/><br/><br/><br/><br/><br/>\n",
    "<font size=\"35\" color = 'A9A9A9' face = 'Arial Rounded MT'> Temporal Difference by Biome</font>    \n",
    "    <br/><br/><br/><br/><br/><br/><br/><br/>\n",
    "<font face = 'Arial Rounded MT' color = 'A9A9A9'> Priscilla Ahn<br> Priyanka Verma </font>\n",
    "</center>"
   ]
  },
  {
   "cell_type": "markdown",
   "metadata": {
    "slideshow": {
     "slide_type": "slide"
    }
   },
   "source": [
    "<center> \n",
    "    <font size=\"18\" color='#8FC0D0' face = 'Arial Rounded MT'>Amazônia</font>\n",
    "        <img src=\"https://raw.githubusercontent.com/verma-priyanka/pontiPy_MapBiomas/main/img/amazonia.png\" \n",
    "             width=\"500\" height=\"600\">\n",
    "<center>"
   ]
  },
  {
   "cell_type": "markdown",
   "metadata": {
    "slideshow": {
     "slide_type": "slide"
    }
   },
   "source": [
    "<center>\n",
    "    <img src=\"https://raw.githubusercontent.com/verma-priyanka/pontiPy_MapBiomas/main/img/Amazônia_1year.png\">\n",
    "</center>"
   ]
  },
  {
   "cell_type": "markdown",
   "metadata": {
    "slideshow": {
     "slide_type": "subslide"
    }
   },
   "source": [
    "<center>\n",
    "    <img src=\"https://raw.githubusercontent.com/verma-priyanka/pontiPy_MapBiomas/main/img/Amazônia_5year.png\">\n",
    "</center>"
   ]
  },
  {
   "cell_type": "markdown",
   "metadata": {
    "slideshow": {
     "slide_type": "slide"
    }
   },
   "source": [
    "<center> \n",
    "    <font size=\"18\" color='#8FC0D0' face = 'Arial Rounded MT'>Caatinga</font>\n",
    "    <img src=\"https://raw.githubusercontent.com/verma-priyanka/pontiPy_MapBiomas/main/img/caatinga.png\" width=\"500\" height=\"600\">\n",
    "<center>"
   ]
  },
  {
   "cell_type": "markdown",
   "metadata": {
    "slideshow": {
     "slide_type": "slide"
    }
   },
   "source": [
    "<center>\n",
    "    <img src=\"https://raw.githubusercontent.com/verma-priyanka/pontiPy_MapBiomas/main/img/Caatiga_1year.png\">\n",
    "</center>"
   ]
  },
  {
   "cell_type": "markdown",
   "metadata": {
    "slideshow": {
     "slide_type": "subslide"
    }
   },
   "source": [
    "<center>\n",
    "    <img src=\"https://raw.githubusercontent.com/verma-priyanka/pontiPy_MapBiomas/main/img/Caatinga_5year.png\">\n",
    "</center>"
   ]
  },
  {
   "cell_type": "markdown",
   "metadata": {
    "slideshow": {
     "slide_type": "slide"
    }
   },
   "source": [
    "<center> \n",
    "    <font size=\"18\" color='#8FC0D0' face = 'Arial Rounded MT'>Cerrado</font>\n",
    "    <img src=\"https://raw.githubusercontent.com/verma-priyanka/pontiPy_MapBiomas/main/img/cerrado.png\" \n",
    "         width=\"500\" height=\"600\">\n",
    "<center>"
   ]
  },
  {
   "cell_type": "markdown",
   "metadata": {
    "slideshow": {
     "slide_type": "slide"
    }
   },
   "source": [
    "<center>\n",
    "    <img src=\"https://raw.githubusercontent.com/verma-priyanka/pontiPy_MapBiomas/main/img/Cerrado_1year.png\">\n",
    "</center>"
   ]
  },
  {
   "cell_type": "markdown",
   "metadata": {
    "slideshow": {
     "slide_type": "subslide"
    }
   },
   "source": [
    "<center>\n",
    "    <img src=\"https://raw.githubusercontent.com/verma-priyanka/pontiPy_MapBiomas/main/img/Cerrado_5year.png\">\n",
    "</center>"
   ]
  },
  {
   "cell_type": "markdown",
   "metadata": {
    "slideshow": {
     "slide_type": "slide"
    }
   },
   "source": [
    "<center> <font size=\"18\" color='#8FC0D0' face = 'Arial Rounded MT'>Mata Atlântica</font>\n",
    "        <img src=\"https://raw.githubusercontent.com/verma-priyanka/pontiPy_MapBiomas/main/img/mata_atlantica.png\"\n",
    "             width=\"500\" height=\"600\">\n",
    "<center>"
   ]
  },
  {
   "cell_type": "markdown",
   "metadata": {
    "slideshow": {
     "slide_type": "slide"
    }
   },
   "source": [
    "<center>\n",
    "    <img src=\"https://raw.githubusercontent.com/verma-priyanka/pontiPy_MapBiomas/main/img/Mata Atlântica_1year.png\">\n",
    "</center>"
   ]
  },
  {
   "cell_type": "markdown",
   "metadata": {
    "slideshow": {
     "slide_type": "subslide"
    }
   },
   "source": [
    "<center>\n",
    "    <img src=\"https://raw.githubusercontent.com/verma-priyanka/pontiPy_MapBiomas/main/img/Mata Atlântica_5year.png\">\n",
    "</center>"
   ]
  },
  {
   "cell_type": "markdown",
   "metadata": {
    "slideshow": {
     "slide_type": "slide"
    }
   },
   "source": [
    "<center> \n",
    "    <font size=\"18\" color='#8FC0D0' face = 'Arial Rounded MT'>Pampa</font>\n",
    "    <img src=\"https://raw.githubusercontent.com/verma-priyanka/pontiPy_MapBiomas/main/img/pampa.png\" \n",
    "         width=\"500\" height=\"600\">\n",
    "<center>"
   ]
  },
  {
   "cell_type": "markdown",
   "metadata": {
    "slideshow": {
     "slide_type": "slide"
    }
   },
   "source": [
    "<center>\n",
    "    <img src=\"https://raw.githubusercontent.com/verma-priyanka/pontiPy_MapBiomas/main/img/Pampa_1year.png\">\n",
    "</center>"
   ]
  },
  {
   "cell_type": "markdown",
   "metadata": {
    "slideshow": {
     "slide_type": "subslide"
    }
   },
   "source": [
    "<center>\n",
    "    <img src=\"https://raw.githubusercontent.com/verma-priyanka/pontiPy_MapBiomas/main/img/Pampa_5year.png\">\n",
    "</center>"
   ]
  },
  {
   "cell_type": "markdown",
   "metadata": {
    "slideshow": {
     "slide_type": "slide"
    }
   },
   "source": [
    "<center> \n",
    "    <font size=\"18\" color='#8FC0D0' face = 'Arial Rounded MT'>Pantanal</font>\n",
    "    <img src=\"https://raw.githubusercontent.com/verma-priyanka/pontiPy_MapBiomas/main/img/pantanal.png\" \n",
    "         width=\"500\" height=\"600\">\n",
    "<center>"
   ]
  },
  {
   "cell_type": "markdown",
   "metadata": {
    "slideshow": {
     "slide_type": "slide"
    }
   },
   "source": [
    "<center>\n",
    "    <img src=\"https://raw.githubusercontent.com/verma-priyanka/pontiPy_MapBiomas/main/img/Pantanal_1year.png\">\n",
    "</center>"
   ]
  },
  {
   "cell_type": "markdown",
   "metadata": {
    "slideshow": {
     "slide_type": "subslide"
    }
   },
   "source": [
    "<center>\n",
    "    <img src=\"https://raw.githubusercontent.com/verma-priyanka/pontiPy_MapBiomas/main/img/Pantanal_5year.png\">\n",
    "</center>"
   ]
  },
  {
   "cell_type": "markdown",
   "metadata": {
    "slideshow": {
     "slide_type": "slide"
    }
   },
   "source": [
    "<center> <font size=\"18\" face = 'Arial Rounded MT'>Thank You </font> </center> "
   ]
  },
  {
   "cell_type": "markdown",
   "metadata": {
    "slideshow": {
     "slide_type": "slide"
    }
   },
   "source": [
    "<center> <font size=\"18\" face = 'Arial Rounded MT'>Questions?</font> </center> "
   ]
  }
 ],
 "metadata": {
  "celltoolbar": "Slideshow",
  "hide_code_all_hidden": true,
  "kernelspec": {
   "display_name": "Python 3",
   "language": "python",
   "name": "python3"
  },
  "language_info": {
   "codemirror_mode": {
    "name": "ipython",
    "version": 3
   },
   "file_extension": ".py",
   "mimetype": "text/x-python",
   "name": "python",
   "nbconvert_exporter": "python",
   "pygments_lexer": "ipython3",
   "version": "3.7.4"
  }
 },
 "nbformat": 4,
 "nbformat_minor": 4
}
